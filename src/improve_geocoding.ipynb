{
 "cells": [
  {
   "cell_type": "code",
   "execution_count": 1,
   "metadata": {},
   "outputs": [],
   "source": [
    "from crawl.models import Items, Addresses, create_items_table, db_connect\n",
    "from sqlalchemy.orm import sessionmaker"
   ]
  },
  {
   "cell_type": "code",
   "execution_count": 2,
   "metadata": {},
   "outputs": [],
   "source": [
    "engine = db_connect()\n",
    "session_ = sessionmaker(bind=engine)\n",
    "session = session_()"
   ]
  },
  {
   "cell_type": "code",
   "execution_count": 3,
   "metadata": {},
   "outputs": [],
   "source": [
    "res = session.query(Items).filter(Items.wkt.is_(None)).all()\n",
    "for r in res:\n",
    "    if r.street_number:\n",
    "        session.query(Addresses).with_entities(Addresses.egid, Addresses.geom).filter(zipcode = r.zip).limit(1)"
   ]
  }
 ],
 "metadata": {
  "interpreter": {
   "hash": "e2cd0abc74c197384345de11c882616ce793f285115bc1321a1cc5ce7c382a5b"
  },
  "kernelspec": {
   "display_name": "Python 3.9.7 64-bit ('venv': venv)",
   "name": "python3"
  },
  "language_info": {
   "codemirror_mode": {
    "name": "ipython",
    "version": 3
   },
   "file_extension": ".py",
   "mimetype": "text/x-python",
   "name": "python",
   "nbconvert_exporter": "python",
   "pygments_lexer": "ipython3",
   "version": "3.9.7"
  },
  "orig_nbformat": 4
 },
 "nbformat": 4,
 "nbformat_minor": 2
}
